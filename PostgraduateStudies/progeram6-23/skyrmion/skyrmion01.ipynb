{
 "cells": [
  {
   "cell_type": "code",
   "id": "initial_id",
   "metadata": {
    "collapsed": true,
    "ExecuteTime": {
     "end_time": "2025-07-01T09:39:26.492137Z",
     "start_time": "2025-07-01T09:39:26.413231Z"
    }
   },
   "source": [
    "import pandas as pd\n",
    "import numpy as np\n",
    "import matplotlib.pyplot as plt\n",
    "import seaborn as sns\n",
    "from sklearn.model_selection import train_test_split\n",
    "from sklearn.neural_network import MLPClassifier\n",
    "from sklearn.preprocessing import StandardScaler\n",
    "from sklearn.metrics import (\n",
    "    confusion_matrix, classification_report,\n",
    "    roc_curve, roc_auc_score\n",
    ")\n",
    "plt.rcParams['font.sans-serif'] = ['SimHei']  # 中文黑体\n",
    "plt.rcParams['axes.unicode_minus'] = False   # 正确显示负号"
   ],
   "outputs": [],
   "execution_count": 1
  },
  {
   "metadata": {
    "ExecuteTime": {
     "end_time": "2025-07-01T09:39:26.650104Z",
     "start_time": "2025-07-01T09:39:26.493130Z"
    }
   },
   "cell_type": "code",
   "source": [
    "df = pd.read_excel(r\"E:\\BaiduSyncdisk\\A-研究生学习\\6-22任务\\数据集及文献\\2斯格明子数据集.xlsx\")\n",
    "print(df.columns.tolist())"
   ],
   "id": "fc4a5ad028153ce8",
   "outputs": [
    {
     "name": "stdout",
     "output_type": "stream",
     "text": [
      "['Formula化学式', '一周期元素', '二周期元素', '三周期元素', '四周期元素', '五周期元素', '六周期元素', '稀土元素', 'Label_1', 'Label_2', 'Label_3', 'Label_4', 'Label_5', 'Label_6', '晶体结构', 'Label_7', '磁结构', '磁结构代号(斯格明子为1，非斯格明子为0）', '各向异性常数（ J/m³）', '饱和磁化强度（T）', '居里温度（K）', '磁结构代号(铁磁设为1、反铁磁设为2、亚铁磁设为3、螺旋包括斯格明子设为4、锥形设为5）', '磁结构代号(线性0非线性1）', '居里温度（K）.1', '能带带隙', '基态能量', '磁矩', 'Label_1.1', 'Label_1.2']\n"
     ]
    }
   ],
   "execution_count": 2
  },
  {
   "metadata": {
    "ExecuteTime": {
     "end_time": "2025-07-01T09:39:26.666741Z",
     "start_time": "2025-07-01T09:39:26.651107Z"
    }
   },
   "cell_type": "code",
   "source": [
    "features=[\n",
    "'Label_1', 'Label_2', 'Label_3', 'Label_4', 'Label_5', 'Label_6','Label_7'\n",
    "]\n",
    "target='磁结构代号(斯格明子为1，非斯格明子为0）'"
   ],
   "id": "111ea1e91c4826c2",
   "outputs": [],
   "execution_count": 3
  },
  {
   "metadata": {
    "ExecuteTime": {
     "end_time": "2025-07-01T09:39:26.681740Z",
     "start_time": "2025-07-01T09:39:26.669740Z"
    }
   },
   "cell_type": "code",
   "source": [
    "X = df[features].values\n",
    "y = df[target].values.reshape(-1, 1).ravel()\n",
    "X_train, X_test, y_train, y_test = train_test_split(X, y, test_size=0.2, random_state=42)"
   ],
   "id": "658f9728b096f358",
   "outputs": [],
   "execution_count": 4
  },
  {
   "metadata": {},
   "cell_type": "markdown",
   "source": "##预处理 $$x_{\\text{scaled}} = \\frac{x - \\mu}{\\sigma}$$",
   "id": "59f8b2b3c7696eb4"
  },
  {
   "metadata": {
    "ExecuteTime": {
     "end_time": "2025-07-01T09:39:26.697805Z",
     "start_time": "2025-07-01T09:39:26.682740Z"
    }
   },
   "cell_type": "code",
   "source": [
    "scaler = StandardScaler()\n",
    "X_train = scaler.fit_transform(X_train)\n",
    "X_test = scaler.transform(X_test)"
   ],
   "id": "d55dcc5f92372316",
   "outputs": [],
   "execution_count": 5
  },
  {
   "metadata": {},
   "cell_type": "markdown",
   "source": "## 训练神经网络（MLPClassifier）",
   "id": "bba24fd97335eeeb"
  },
  {
   "metadata": {
    "ExecuteTime": {
     "end_time": "2025-07-01T09:39:27.182846Z",
     "start_time": "2025-07-01T09:39:26.698804Z"
    }
   },
   "cell_type": "code",
   "source": [
    "clf = MLPClassifier(hidden_layer_sizes=(20, 10), activation='relu', solver='adam', max_iter=1000, random_state=42)\n",
    "clf.fit(X_train, y_train)\n",
    "y_pred = clf.predict(X_test)\n",
    "y_prob = clf.predict_proba(X_test)[:, 1]\n",
    "print(\"=== Confusion Matrix ===\")\n",
    "print(confusion_matrix(y_test, y_pred))\n",
    "print(\"\\n=== Classification Report ===\")\n",
    "print(classification_report(y_test, y_pred))"
   ],
   "id": "8cbd14cc1cb4762",
   "outputs": [
    {
     "name": "stdout",
     "output_type": "stream",
     "text": [
      "=== Confusion Matrix ===\n",
      "[[62  3]\n",
      " [ 2 68]]\n",
      "\n",
      "=== Classification Report ===\n",
      "              precision    recall  f1-score   support\n",
      "\n",
      "           0       0.97      0.95      0.96        65\n",
      "           1       0.96      0.97      0.96        70\n",
      "\n",
      "    accuracy                           0.96       135\n",
      "   macro avg       0.96      0.96      0.96       135\n",
      "weighted avg       0.96      0.96      0.96       135\n",
      "\n"
     ]
    }
   ],
   "execution_count": 6
  },
  {
   "metadata": {
    "ExecuteTime": {
     "end_time": "2025-07-01T09:39:27.198001Z",
     "start_time": "2025-07-01T09:39:27.183838Z"
    }
   },
   "cell_type": "code",
   "source": [
    "fpr, tpr, thresholds = roc_curve(y_test, y_prob)\n",
    "roc_auc = roc_auc_score(y_test, y_prob)"
   ],
   "id": "9f87a5a01c2b3a22",
   "outputs": [],
   "execution_count": 7
  },
  {
   "metadata": {
    "ExecuteTime": {
     "end_time": "2025-07-01T09:39:27.291115Z",
     "start_time": "2025-07-01T09:39:27.198982Z"
    }
   },
   "cell_type": "code",
   "source": [
    "plt.figure(figsize=(6, 5))\n",
    "plt.plot(fpr, tpr, color='blue', lw=2, label=f\"ROC curve (AUC = {roc_auc:.2f})\")\n",
    "plt.plot([0, 1], [0, 1], color='gray', linestyle='--')\n",
    "plt.xlim([0.0, 1.0])\n",
    "plt.ylim([0.0, 1.05])\n",
    "plt.xlabel(\"False Positive Rate\")\n",
    "plt.ylabel(\"True Positive Rate\")\n",
    "plt.title(\"ROC Curve - Skyrmion Prediction\")\n",
    "plt.legend(loc=\"lower right\")\n",
    "plt.grid(True)\n",
    "plt.tight_layout()\n",
    "plt.show()"
   ],
   "id": "7ac03a0f4b863d4b",
   "outputs": [
    {
     "data": {
      "text/plain": [
       "<Figure size 600x500 with 1 Axes>"
      ],
      "image/png": "[encoded data removed]"
     },
     "metadata": {},
     "output_type": "display_data"
    }
   ],
   "execution_count": 8
  },
  {
   "metadata": {
    "ExecuteTime": {
     "end_time": "2025-07-01T09:39:27.371069Z",
     "start_time": "2025-07-01T09:39:27.291992Z"
    }
   },
   "cell_type": "code",
   "source": [
    "# === 混淆矩阵百分比表示（可视化） ===\n",
    "cm = confusion_matrix(y_test, y_pred)\n",
    "cm_percent = cm.astype('float') / cm.sum(axis=1)[:, np.newaxis]\n",
    "\n",
    "plt.figure(figsize=(5, 4))\n",
    "sns.heatmap(cm_percent, annot=True, fmt=\".2%\", cmap=\"Blues\", xticklabels=[\"预测=0\", \"预测=1\"], yticklabels=[\"实际=0\", \"实际=1\"])\n",
    "plt.title(\"Confusion Matrix (百分比)\")\n",
    "plt.xlabel(\"预测值\")\n",
    "plt.ylabel(\"实际值\")\n",
    "plt.tight_layout()\n",
    "plt.show()"
   ],
   "id": "6dead64705f9f245",
   "outputs": [
    {
     "data": {
      "text/plain": [
       "<Figure size 500x400 with 2 Axes>"
      ],
      "image/png": "[encoded data removed]"
     },
     "metadata": {},
     "output_type": "display_data"
    }
   ],
   "execution_count": 9
  },
  {
   "metadata": {},
   "cell_type": "markdown",
   "source": [
    "## 预测设想中的材料\n",
    "不知道晶体结构所以1-6全部测试"
   ],
   "id": "5587238547f2d93a"
  },
  {
   "metadata": {
    "ExecuteTime": {
     "end_time": "2025-07-01T09:43:09.431794Z",
     "start_time": "2025-07-01T09:43:09.417421Z"
    }
   },
   "cell_type": "code",
   "source": [
    "df2= pd.read_excel(r\"E:\\BaiduSyncdisk\\A-研究生学习\\6-22任务\\数据集及文献\\设想数据输入.xlsx\")\n",
    "print(df2.columns.tolist())"
   ],
   "id": "9e303e2281bcaf39",
   "outputs": [
    {
     "name": "stdout",
     "output_type": "stream",
     "text": [
      "['Unnamed: 0', ' Label-1', 'Label-2', 'Label-3', 'Label-4', 'Label-5', 'Label-6', 'label-7']\n"
     ]
    }
   ],
   "execution_count": 14
  },
  {
   "metadata": {
    "ExecuteTime": {
     "end_time": "2025-07-01T09:52:13.270850Z",
     "start_time": "2025-07-01T09:52:13.249500Z"
    }
   },
   "cell_type": "code",
   "source": [
    "new_rows = []\n",
    "for index, row in df2.iterrows():\n",
    "    for i in range(1, 7):\n",
    "        new_row = row.copy()\n",
    "        new_row.iloc[7] = i  \n",
    "        new_rows.append(new_row)\n",
    "new_df = pd.DataFrame(new_rows)"
   ],
   "id": "7392d824c4b2b672",
   "outputs": [],
   "execution_count": 19
  },
  {
   "metadata": {
    "ExecuteTime": {
     "end_time": "2025-07-01T09:58:17.007574Z",
     "start_time": "2025-07-01T09:58:16.992246Z"
    }
   },
   "cell_type": "code",
   "source": [
    "features_js=[\n",
    "' Label-1', 'Label-2', 'Label-3', 'Label-4', 'Label-5', 'Label-6', 'label-7'\n",
    "]\n",
    "X_js=new_df[features_js].values\n",
    "scaler2 = StandardScaler()\n",
    "X_js=scaler2.fit_transform(X_js)\n",
    "y_js=clf.predict(X_js)\n",
    "y_js_prob=clf.predict_proba(X_js)[:,1]"
   ],
   "id": "c2b0663d028e54cb",
   "outputs": [],
   "execution_count": 23
  },
  {
   "metadata": {
    "ExecuteTime": {
     "end_time": "2025-07-01T10:04:02.321823Z",
     "start_time": "2025-07-01T10:04:02.295627Z"
    }
   },
   "cell_type": "code",
   "source": [
    "new_df['预测结果']=y_js\n",
    "new_df['预测概率']=y_js_prob\n",
    "new_df.to_excel(r\"E:\\BaiduSyncdisk\\A-研究生学习\\6-22任务\\数据集及文献\\设想数据输出.xlsx\", index=False)"
   ],
   "id": "adf7af1ef20cb54b",
   "outputs": [],
   "execution_count": 24
  }
 ],
 "metadata": {
  "kernelspec": {
   "display_name": "Python 3",
   "language": "python",
   "name": "python3"
  },
  "language_info": {
   "codemirror_mode": {
    "name": "ipython",
    "version": 2
   },
   "file_extension": ".py",
   "mimetype": "text/x-python",
   "name": "python",
   "nbconvert_exporter": "python",
   "pygments_lexer": "ipython2",
   "version": "2.7.6"
  }
 },
 "nbformat": 4,
 "nbformat_minor": 5
}
