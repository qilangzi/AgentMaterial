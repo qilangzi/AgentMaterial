{
 "cells": [
  {
   "metadata": {},
   "cell_type": "markdown",
   "source": [
    "# 自然语言处理-词向量模型-word2vec\n",
    "- 用词向量来表示语言\n",
    "- 一般维度是50-300\n",
    "- 可以通过计算词向量之间的相似度来判断两个词的相似度（例如：欧式距离）\n",
    "- 维度越高包含的信息越丰富，计算结果越可靠\n",
    "- 相似的词** 特征 **表达上意识比较相似的\n",
    "- 类别\n",
    "    - CBOW\n",
    "        - 通过上下文预测中间的词\n",
    "    - Skip-gram\n",
    "        - 通过中间词预测上下文\n",
    "- 工作流程\n",
    "    - 输入词\n",
    "    - 到词库的大表中找到** 词向量 **(随机初始化)\n",
    "    - 然后通过神经网路训练更新参数和词向量\n",
    "    - 更新大表中输入数据所对应的词向量是什么\n"
   ],
   "id": "a8e678bddab7ca19"
  },
  {
   "cell_type": "code",
   "execution_count": null,
   "id": "initial_id",
   "metadata": {
    "collapsed": true
   },
   "outputs": [],
   "source": [
    ""
   ]
  }
 ],
 "metadata": {
  "kernelspec": {
   "display_name": "Python 3",
   "language": "python",
   "name": "python3"
  },
  "language_info": {
   "codemirror_mode": {
    "name": "ipython",
    "version": 2
   },
   "file_extension": ".py",
   "mimetype": "text/x-python",
   "name": "python",
   "nbconvert_exporter": "python",
   "pygments_lexer": "ipython2",
   "version": "2.7.6"
  }
 },
 "nbformat": 4,
 "nbformat_minor": 5
}
