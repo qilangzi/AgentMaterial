{
 "cells": [
  {
   "metadata": {},
   "cell_type": "markdown",
   "source": [
    "# SVM\n",
    "- $\\overrightarrow{W}\\times X+b$\n",
    "## 线性可分支持向量机\n",
    "    - 硬间隔最大化\n",
    "- C和$\\gamma $越大准确率越高，泛化能力越弱\n",
    "- 点到分割线的距离\n",
    "    - $\\frac{\\left| \\overrightarrow{W}\\times X+b \\right|}{\\left| \\overrightarrow{W} \\right|} = \\frac{\\left \\overrightarrow{W}\\times X+b \\right \\times y}{\\left| \\overrightarrow{W} \\right|}$\n",
    "    - y =1或-1代表正例和负例\n",
    "- 所有样本点到分割线的距离的最小值取最大就是泛化能力最强的那条分割线\n",
    "    - 目标函数$\\arg\\max_{w,b} \\left\\{ \\frac{1}{\\| w \\|} \\min_i \\left[ y_i \\cdot \\left( w^T \\cdot \\Phi(x_i) + b \\right) \\right] \\right\\}$\n",
    "    - 令最小距离始终为1（可以让直线乘一个数办到）$\\arg\\max_{w,b} \\frac{1}{\\| w \\|}$ $$\\min_{w,b} \\frac{1}{2} \\| w \\|^2 \\\\\n",
    "s.t. \\quad y_i \\left( w^T \\cdot \\Phi(x_i) + b \\right) \\geq 1,\\quad i=1,2,\\cdots,n$$\n",
    "- ![](img/img_13.png)\n",
    "    - $\\alpha_i>=0$\n",
    "    - 根据约束条件得到$\\alpha_i$\n",
    "    - 计算W和b$$w^* = \\sum_{i=1}^{N} \\alpha_i^* y_i \\Phi(x_i) \\\\\n",
    "b^* = y_i - \\sum_{i=1}^{N} \\alpha_i^* y_i \\left( \\Phi(x_i) \\cdot \\Phi(x_j) \\right)$$\n",
    "- 超参数 $\\alpha_i>0$ 为支撑向量\n",
    "- $\\alpha_i<=0$ 为噪声向量\n",
    "## 线性支持支持向量机\n",
    "- 在线性可分的情况下，加入软间隔最大化 \n",
    "- 如数据线性不可分，这加入松弛因子 \n",
    "- $$y_i (w \\cdot x_i + b) \\geq 1 - \\xi_i \\\\\n",
    "\\min_{w,b} \\frac{1}{2} \\| w \\|^2 + C \\sum_{i=1}^{N} \\xi_i$$\n",
    "- 得到$$\\min_{\\alpha} \\frac{1}{2} \\sum_{i=1}^{n} \\sum_{j=1}^{n} \\alpha_i \\alpha_j y_i y_j (x_i \\cdot x_j) - \\sum_{i=1}^{n} \\alpha_i \\\\\n",
    "s.t. \\quad \\sum_{i=1}^{n} \\alpha_i y_i = 0 \\\\\n",
    "\\quad \\quad 0 \\leq \\alpha_i \\leq C, \\quad i=1,2,\\dots,n$$\n",
    "## 非线性支持向量机\n",
    "- 核函数\n",
    "    - 高斯\n",
    "    - 多项式\n",
    "    - sigmoid"
   ],
   "id": "f5327fe5e79a83f4"
  },
  {
   "cell_type": "code",
   "execution_count": null,
   "id": "initial_id",
   "metadata": {
    "collapsed": true
   },
   "outputs": [],
   "source": [
    ""
   ]
  }
 ],
 "metadata": {
  "kernelspec": {
   "display_name": "Python 3",
   "language": "python",
   "name": "python3"
  },
  "language_info": {
   "codemirror_mode": {
    "name": "ipython",
    "version": 2
   },
   "file_extension": ".py",
   "mimetype": "text/x-python",
   "name": "python",
   "nbconvert_exporter": "python",
   "pygments_lexer": "ipython2",
   "version": "2.7.6"
  }
 },
 "nbformat": 4,
 "nbformat_minor": 5
}
